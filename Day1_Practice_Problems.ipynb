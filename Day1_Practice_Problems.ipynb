{
  "nbformat": 4,
  "nbformat_minor": 0,
  "metadata": {
    "colab": {
      "provenance": []
    },
    "kernelspec": {
      "name": "python3",
      "display_name": "Python 3"
    },
    "language_info": {
      "name": "python"
    }
  },
  "cells": [
    {
      "cell_type": "markdown",
      "source": [
        "**Question 1**"
      ],
      "metadata": {
        "id": "x9tr4suLSjiX"
      }
    },
    {
      "cell_type": "code",
      "execution_count": null,
      "metadata": {
        "colab": {
          "base_uri": "https://localhost:8080/"
        },
        "id": "uafTbrRxjtXJ",
        "outputId": "381e755b-528f-4d3e-ff43-f9dc62cadbe7"
      },
      "outputs": [
        {
          "output_type": "stream",
          "name": "stdout",
          "text": [
            "Hello\n"
          ]
        }
      ],
      "source": [
        "\n",
        "str=\"Hello,World!\"\n",
        "print(str[:5])"
      ]
    },
    {
      "cell_type": "markdown",
      "source": [
        "**Question 2**"
      ],
      "metadata": {
        "id": "reWDoazgS0Xl"
      }
    },
    {
      "cell_type": "code",
      "source": [
        "str=\"Python is fun\"\n",
        "print(str[7:9])"
      ],
      "metadata": {
        "colab": {
          "base_uri": "https://localhost:8080/"
        },
        "id": "R77-5Odgj97Q",
        "outputId": "50ea3aee-f7c3-436d-ec65-cac6b00896b4"
      },
      "execution_count": null,
      "outputs": [
        {
          "output_type": "stream",
          "name": "stdout",
          "text": [
            "is\n"
          ]
        }
      ]
    },
    {
      "cell_type": "markdown",
      "source": [
        "Question **3**"
      ],
      "metadata": {
        "id": "229xGbJbS5Or"
      }
    },
    {
      "cell_type": "code",
      "source": [
        "str=\"Programming\"\n",
        "print(str[-8:-4])"
      ],
      "metadata": {
        "colab": {
          "base_uri": "https://localhost:8080/"
        },
        "id": "l6ezhlIvkEbr",
        "outputId": "6e2000be-08a3-481b-dd3d-6e3fb50b4f51"
      },
      "execution_count": null,
      "outputs": [
        {
          "output_type": "stream",
          "name": "stdout",
          "text": [
            "gram\n"
          ]
        }
      ]
    },
    {
      "cell_type": "markdown",
      "source": [
        "**Question 4**"
      ],
      "metadata": {
        "id": "mNhkz_rPS852"
      }
    },
    {
      "cell_type": "code",
      "source": [
        "str=\"abcdefgh\"\n",
        "print(str[0:8:2])"
      ],
      "metadata": {
        "colab": {
          "base_uri": "https://localhost:8080/"
        },
        "id": "ieOn6oITkHsl",
        "outputId": "941208f7-04fa-48c6-d473-6f79492e048f"
      },
      "execution_count": null,
      "outputs": [
        {
          "output_type": "stream",
          "name": "stdout",
          "text": [
            "aceg\n"
          ]
        }
      ]
    },
    {
      "cell_type": "markdown",
      "source": [
        "**Question 5**"
      ],
      "metadata": {
        "id": "NZYDrMX8TC2_"
      }
    },
    {
      "cell_type": "code",
      "source": [
        "str=\"abcdefg\"\n",
        "print(str[-3:])"
      ],
      "metadata": {
        "colab": {
          "base_uri": "https://localhost:8080/"
        },
        "id": "Dh7dYBiRkL6L",
        "outputId": "e9cc5ea7-4ae9-4ca9-9fe5-280a923c38db"
      },
      "execution_count": null,
      "outputs": [
        {
          "output_type": "stream",
          "name": "stdout",
          "text": [
            "efg\n"
          ]
        }
      ]
    },
    {
      "cell_type": "markdown",
      "source": [
        "**Question 6**"
      ],
      "metadata": {
        "id": "IESwlEF2TIhI"
      }
    },
    {
      "cell_type": "code",
      "source": [
        "str=\"Data Science\"\n",
        "print(str[-3:])"
      ],
      "metadata": {
        "colab": {
          "base_uri": "https://localhost:8080/"
        },
        "id": "z1WSfyRukR1V",
        "outputId": "ec7fe266-515a-490c-9534-01abf62605d7"
      },
      "execution_count": null,
      "outputs": [
        {
          "output_type": "stream",
          "name": "stdout",
          "text": [
            "nce\n"
          ]
        }
      ]
    },
    {
      "cell_type": "markdown",
      "source": [
        "**Question 7**"
      ],
      "metadata": {
        "id": "3ynx3zniTL7-"
      }
    },
    {
      "cell_type": "code",
      "source": [
        "str=\"abcdefghij\"\n",
        "print(str[0:10:2])"
      ],
      "metadata": {
        "colab": {
          "base_uri": "https://localhost:8080/"
        },
        "id": "c61vdCZykeAv",
        "outputId": "f5d10923-7b43-46b2-b590-19dedd30fc08"
      },
      "execution_count": null,
      "outputs": [
        {
          "output_type": "stream",
          "name": "stdout",
          "text": [
            "acegi\n"
          ]
        }
      ]
    },
    {
      "cell_type": "markdown",
      "source": [
        "**Question 8**"
      ],
      "metadata": {
        "id": "osT4vbMYTPSX"
      }
    },
    {
      "cell_type": "code",
      "source": [
        "str=\"1234567890\"\n",
        "print(str[::2])"
      ],
      "metadata": {
        "colab": {
          "base_uri": "https://localhost:8080/"
        },
        "id": "Gq07ByyxkjFl",
        "outputId": "de0588be-097b-42ff-b6ce-61c739593a46"
      },
      "execution_count": null,
      "outputs": [
        {
          "output_type": "stream",
          "name": "stdout",
          "text": [
            "13579\n"
          ]
        }
      ]
    },
    {
      "cell_type": "markdown",
      "source": [
        "**Question 9**"
      ],
      "metadata": {
        "id": "kXpsNExFTS6R"
      }
    },
    {
      "cell_type": "code",
      "source": [
        "str=\"Hello\"\n",
        "print(str[::-1])"
      ],
      "metadata": {
        "colab": {
          "base_uri": "https://localhost:8080/"
        },
        "id": "UZiWsXxtkn36",
        "outputId": "e6f54bd1-ae64-4bfa-b502-daa95f018c17"
      },
      "execution_count": null,
      "outputs": [
        {
          "output_type": "stream",
          "name": "stdout",
          "text": [
            "olleH\n"
          ]
        }
      ]
    },
    {
      "cell_type": "markdown",
      "source": [
        "**Question 10**"
      ],
      "metadata": {
        "id": "MRBFkaldTV7j"
      }
    },
    {
      "cell_type": "code",
      "source": [
        "str=\"abcdefghijk\"\n",
        "print(str[0:11:2])"
      ],
      "metadata": {
        "colab": {
          "base_uri": "https://localhost:8080/"
        },
        "id": "6JhQzmUSksLK",
        "outputId": "bf176151-15c3-413c-e58c-bf6ccde4d36c"
      },
      "execution_count": null,
      "outputs": [
        {
          "output_type": "stream",
          "name": "stdout",
          "text": [
            "acegik\n"
          ]
        }
      ]
    }
  ]
}