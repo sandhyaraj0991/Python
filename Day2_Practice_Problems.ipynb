{
  "nbformat": 4,
  "nbformat_minor": 0,
  "metadata": {
    "colab": {
      "provenance": []
    },
    "kernelspec": {
      "name": "python3",
      "display_name": "Python 3"
    },
    "language_info": {
      "name": "python"
    }
  },
  "cells": [
    {
      "cell_type": "markdown",
      "source": [
        "**Question 1**"
      ],
      "metadata": {
        "id": "tW1Ze4F4UXwJ"
      }
    },
    {
      "cell_type": "code",
      "source": [
        "list1=[1,2,3,4,5,6]\n",
        "total=sum(list1)\n",
        "print('sum of all elements in the list is',total)"
      ],
      "metadata": {
        "colab": {
          "base_uri": "https://localhost:8080/"
        },
        "id": "rz9OYRW6Ub3_",
        "outputId": "68a8cb3e-cf8a-4072-c6b5-0879cb377cb8"
      },
      "execution_count": 2,
      "outputs": [
        {
          "output_type": "stream",
          "name": "stdout",
          "text": [
            "sum of all elements in the list is 21\n"
          ]
        }
      ]
    },
    {
      "cell_type": "markdown",
      "source": [
        "**Question 2**"
      ],
      "metadata": {
        "id": "AFzzcijdVwV_"
      }
    },
    {
      "cell_type": "code",
      "source": [
        "str1=\"Hellow World\"\n",
        "len(str1)"
      ],
      "metadata": {
        "colab": {
          "base_uri": "https://localhost:8080/"
        },
        "id": "OhderhgRV0ha",
        "outputId": "c4e0d974-1547-4071-baf5-3953d5e0e6e4"
      },
      "execution_count": 8,
      "outputs": [
        {
          "output_type": "execute_result",
          "data": {
            "text/plain": [
              "12"
            ]
          },
          "metadata": {},
          "execution_count": 8
        }
      ]
    },
    {
      "cell_type": "code",
      "source": [
        "half_str=len(str1)//2\n",
        "print(str1[:half_str])"
      ],
      "metadata": {
        "colab": {
          "base_uri": "https://localhost:8080/"
        },
        "id": "Fwyxq3-OWCS6",
        "outputId": "5d8e75ca-ad1c-44e5-d5dd-20d10a35f91d"
      },
      "execution_count": 9,
      "outputs": [
        {
          "output_type": "stream",
          "name": "stdout",
          "text": [
            "Hellow\n"
          ]
        }
      ]
    },
    {
      "cell_type": "markdown",
      "source": [
        "**Question 3**  "
      ],
      "metadata": {
        "id": "eWRIGYNjXDMF"
      }
    },
    {
      "cell_type": "code",
      "source": [
        "# Tuple can't unchangeable\n",
        "t=(75,45,32,19,82,77,40,39)\n",
        "t"
      ],
      "metadata": {
        "colab": {
          "base_uri": "https://localhost:8080/"
        },
        "id": "UrH7IxTdZGcF",
        "outputId": "7c1e0b3d-56c2-48da-fe01-109b1cd1825d"
      },
      "execution_count": 15,
      "outputs": [
        {
          "output_type": "execute_result",
          "data": {
            "text/plain": [
              "(75, 45, 32, 19, 82, 77, 40, 39)"
            ]
          },
          "metadata": {},
          "execution_count": 15
        }
      ]
    },
    {
      "cell_type": "markdown",
      "source": [
        "**Question 4**"
      ],
      "metadata": {
        "id": "CyTXNb17Zx3D"
      }
    },
    {
      "cell_type": "markdown",
      "source": [
        "**a)**"
      ],
      "metadata": {
        "id": "GwBhoYqbarkf"
      }
    },
    {
      "cell_type": "code",
      "source": [
        "A=[19,32,10,55,31,32,94,29,10,65,77,40,40]\n",
        "A.remove(32)\n",
        "A"
      ],
      "metadata": {
        "colab": {
          "base_uri": "https://localhost:8080/"
        },
        "id": "zaMfCAPpZ0d3",
        "outputId": "dbfa74c3-1454-482e-a8bb-75ab3bef4257"
      },
      "execution_count": 17,
      "outputs": [
        {
          "output_type": "execute_result",
          "data": {
            "text/plain": [
              "[19, 10, 55, 31, 32, 94, 29, 10, 65, 77, 40, 40]"
            ]
          },
          "metadata": {},
          "execution_count": 17
        }
      ]
    },
    {
      "cell_type": "markdown",
      "source": [
        "**b)**"
      ],
      "metadata": {
        "id": "WnXIN53qavr1"
      }
    },
    {
      "cell_type": "code",
      "source": [
        "A=[19, 10, 55, 31, 32, 94, 29, 10, 65, 77, 40, 40]"
      ],
      "metadata": {
        "id": "Q1LL9ivmayg_"
      },
      "execution_count": null,
      "outputs": []
    },
    {
      "cell_type": "markdown",
      "source": [
        "**c)**"
      ],
      "metadata": {
        "id": "FOgTJp9oeM7T"
      }
    },
    {
      "cell_type": "code",
      "source": [
        "del A[5]"
      ],
      "metadata": {
        "id": "M6h1A1FoesNB"
      },
      "execution_count": 18,
      "outputs": []
    },
    {
      "cell_type": "code",
      "source": [
        "A"
      ],
      "metadata": {
        "colab": {
          "base_uri": "https://localhost:8080/"
        },
        "id": "AVtdBwPQezpC",
        "outputId": "e85e71a6-abb4-4426-98e4-bb903d152c0f"
      },
      "execution_count": 19,
      "outputs": [
        {
          "output_type": "execute_result",
          "data": {
            "text/plain": [
              "[19, 10, 55, 31, 32, 29, 10, 65, 77, 40, 40]"
            ]
          },
          "metadata": {},
          "execution_count": 19
        }
      ]
    },
    {
      "cell_type": "markdown",
      "source": [
        "**d)**"
      ],
      "metadata": {
        "id": "x_o8XIQSe91J"
      }
    },
    {
      "cell_type": "code",
      "source": [
        "A.insert(9,300)\n",
        "A\n"
      ],
      "metadata": {
        "colab": {
          "base_uri": "https://localhost:8080/"
        },
        "id": "mfZm8yVIfAu2",
        "outputId": "e71e5a0c-3696-4091-91ec-1f1925cc3c96"
      },
      "execution_count": 29,
      "outputs": [
        {
          "output_type": "execute_result",
          "data": {
            "text/plain": [
              "[19, 10, 55, 31, 32, 29, 10, 65, 77, 300, 40]"
            ]
          },
          "metadata": {},
          "execution_count": 29
        }
      ]
    },
    {
      "cell_type": "markdown",
      "source": [
        "**e)**\n"
      ],
      "metadata": {
        "id": "0NvHk9QsgvuT"
      }
    },
    {
      "cell_type": "code",
      "source": [
        "A.insert(2,200)\n",
        "A"
      ],
      "metadata": {
        "colab": {
          "base_uri": "https://localhost:8080/"
        },
        "id": "Xdx-ZMuahlWk",
        "outputId": "8d2d0037-8de6-4fce-da2f-437b2cac5a37"
      },
      "execution_count": 32,
      "outputs": [
        {
          "output_type": "execute_result",
          "data": {
            "text/plain": [
              "[19, 10, 200, 55, 31, 32, 29, 10, 65, 77, 300, 40]"
            ]
          },
          "metadata": {},
          "execution_count": 32
        }
      ]
    },
    {
      "cell_type": "markdown",
      "source": [
        "**f)**"
      ],
      "metadata": {
        "id": "PhPkjIBzigGJ"
      }
    },
    {
      "cell_type": "code",
      "source": [
        "A\n"
      ],
      "metadata": {
        "colab": {
          "base_uri": "https://localhost:8080/"
        },
        "id": "QEl31zrqiiwo",
        "outputId": "527aa87d-6524-48a0-f03e-05794e7e283e"
      },
      "execution_count": 35,
      "outputs": [
        {
          "output_type": "execute_result",
          "data": {
            "text/plain": [
              "[19, 10, 200, 55, 31, 32, 29, 10, 65, 77, 300, 40]"
            ]
          },
          "metadata": {},
          "execution_count": 35
        }
      ]
    },
    {
      "cell_type": "code",
      "source": [
        "len(A)"
      ],
      "metadata": {
        "colab": {
          "base_uri": "https://localhost:8080/"
        },
        "id": "UOfDe79gis4-",
        "outputId": "910d206e-577f-471e-b30f-2bf9b47bb41e"
      },
      "execution_count": 36,
      "outputs": [
        {
          "output_type": "execute_result",
          "data": {
            "text/plain": [
              "12"
            ]
          },
          "metadata": {},
          "execution_count": 36
        }
      ]
    },
    {
      "cell_type": "code",
      "source": [
        "max(A)"
      ],
      "metadata": {
        "colab": {
          "base_uri": "https://localhost:8080/"
        },
        "id": "1pdarc35i9xt",
        "outputId": "076a5338-3112-4700-bfd9-01622b1310a7"
      },
      "execution_count": 38,
      "outputs": [
        {
          "output_type": "execute_result",
          "data": {
            "text/plain": [
              "300"
            ]
          },
          "metadata": {},
          "execution_count": 38
        }
      ]
    },
    {
      "cell_type": "code",
      "source": [
        "total=sum(A)\n",
        "print('sum of all elements in the list is',total)"
      ],
      "metadata": {
        "colab": {
          "base_uri": "https://localhost:8080/"
        },
        "id": "yYqjb9xvjEsm",
        "outputId": "6cc0a401-b9aa-40a0-dc81-6f97ea025c63"
      },
      "execution_count": 39,
      "outputs": [
        {
          "output_type": "stream",
          "name": "stdout",
          "text": [
            "sum of all elements in the list is 868\n"
          ]
        }
      ]
    },
    {
      "cell_type": "markdown",
      "source": [
        "**Question 5**"
      ],
      "metadata": {
        "id": "sRtuU3YcjVLA"
      }
    },
    {
      "cell_type": "markdown",
      "source": [
        "**a)**"
      ],
      "metadata": {
        "id": "Bym0G_j0j8hP"
      }
    },
    {
      "cell_type": "code",
      "source": [
        "str2='The day has been long'\n",
        "\n",
        "\n"
      ],
      "metadata": {
        "id": "5ILbqZ1ij-_F"
      },
      "execution_count": 47,
      "outputs": []
    },
    {
      "cell_type": "markdown",
      "source": [
        "**b)**"
      ],
      "metadata": {
        "id": "ANk6bK1Kois7"
      }
    },
    {
      "cell_type": "code",
      "source": [
        "str2='The day has been long \\t'\n",
        "print(str2 * 4)"
      ],
      "metadata": {
        "colab": {
          "base_uri": "https://localhost:8080/"
        },
        "id": "YXVzQdQ7m2iI",
        "outputId": "4447eb7b-3c37-4af6-9177-a69a6efce2bd"
      },
      "execution_count": 56,
      "outputs": [
        {
          "output_type": "stream",
          "name": "stdout",
          "text": [
            "The day has been long \tThe day has been long \tThe day has been long \t\n"
          ]
        }
      ]
    },
    {
      "cell_type": "markdown",
      "source": [
        "**c)**"
      ],
      "metadata": {
        "id": "NksHqKnHrL0C"
      }
    },
    {
      "cell_type": "code",
      "source": [
        "str2='The day has been long \\n'\n",
        "print(str2 * 3)\n"
      ],
      "metadata": {
        "colab": {
          "base_uri": "https://localhost:8080/"
        },
        "id": "VSHKTQjdqOZ8",
        "outputId": "58663c83-ccc2-46ca-e4f7-19f6736ac246"
      },
      "execution_count": 57,
      "outputs": [
        {
          "output_type": "stream",
          "name": "stdout",
          "text": [
            "The day has been long \n",
            "The day has been long \n",
            "The day has been long \n",
            "\n"
          ]
        }
      ]
    },
    {
      "cell_type": "markdown",
      "source": [
        "**d)**"
      ],
      "metadata": {
        "id": "75LwdmdsrK1W"
      }
    },
    {
      "cell_type": "markdown",
      "source": [
        "**e)**"
      ],
      "metadata": {
        "id": "J98qFmXwr9tL"
      }
    },
    {
      "cell_type": "code",
      "source": [
        "str4=str2[4:15]\n",
        "print(str4)"
      ],
      "metadata": {
        "colab": {
          "base_uri": "https://localhost:8080/"
        },
        "id": "C7IfWpTjsAoj",
        "outputId": "5844814d-7419-4095-9382-42421b74f185"
      },
      "execution_count": 61,
      "outputs": [
        {
          "output_type": "stream",
          "name": "stdout",
          "text": [
            "day has bee\n"
          ]
        }
      ]
    },
    {
      "cell_type": "markdown",
      "source": [
        "**f)**"
      ],
      "metadata": {
        "id": "LHEQuHBnslrq"
      }
    },
    {
      "cell_type": "code",
      "source": [
        "len(str4)"
      ],
      "metadata": {
        "colab": {
          "base_uri": "https://localhost:8080/"
        },
        "id": "q7l-UJHtszNQ",
        "outputId": "42df8826-8632-40e1-b674-ecb41f77426c"
      },
      "execution_count": 62,
      "outputs": [
        {
          "output_type": "execute_result",
          "data": {
            "text/plain": [
              "11"
            ]
          },
          "metadata": {},
          "execution_count": 62
        }
      ]
    }
  ]
}