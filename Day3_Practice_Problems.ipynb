{
  "nbformat": 4,
  "nbformat_minor": 0,
  "metadata": {
    "colab": {
      "provenance": []
    },
    "kernelspec": {
      "name": "python3",
      "display_name": "Python 3"
    },
    "language_info": {
      "name": "python"
    }
  },
  "cells": [
    {
      "cell_type": "markdown",
      "source": [
        "**Question 1**\n",
        "\n",
        "**University Sports Score - Runner-up**"
      ],
      "metadata": {
        "id": "DA0l0953KXYA"
      }
    },
    {
      "cell_type": "code",
      "execution_count": 2,
      "metadata": {
        "colab": {
          "base_uri": "https://localhost:8080/"
        },
        "id": "rSZHO0pQKKsc",
        "outputId": "40f76970-2621-47fc-bfd8-4c99dc078606"
      },
      "outputs": [
        {
          "output_type": "stream",
          "name": "stdout",
          "text": [
            "Enter number of scores in list: 6\n",
            "Enter the scores: 15\n",
            "Enter the scores: 20\n",
            "Enter the scores: 14\n",
            "Enter the scores: 12\n",
            "Enter the scores: 10\n",
            "Enter the scores: 8\n",
            "List of Scores [8, 10, 12, 14, 15, 20]\n",
            "Runner-up score is: 15\n"
          ]
        }
      ],
      "source": [
        "list_val = []\n",
        "\n",
        "num_list = int(input(\"Enter number of scores in list: \"))\n",
        "\n",
        "for i in range(1, num_list + 1):\n",
        "    element = int(input(\"Enter the scores: \"))\n",
        "    list_val.append(element)\n",
        "\n",
        "list_val.sort()\n",
        "print('List of Scores',list_val)\n",
        "print(\"Runner-up score is:\", list_val[-2])\n",
        "\n",
        "\n",
        "\n"
      ]
    },
    {
      "cell_type": "markdown",
      "source": [
        "**Question 2**\n",
        "\n",
        "**Dictionary**"
      ],
      "metadata": {
        "id": "SMIQj1XAe8jk"
      }
    },
    {
      "cell_type": "code",
      "source": [
        "D={'John':[25,32,43], 'Peter':[87,55,96],'Ram':[58,55,43],'Meena':[63,79,85]}\n",
        "user_input=''\n",
        "user_input=input('Enter a name: ')\n",
        "if user_input in D.keys():\n",
        "   D.update({user_input:[88,77,99]})\n",
        "   print(D)\n",
        "\n",
        "else:\n",
        "   print('Name not found')\n",
        ""
      ],
      "metadata": {
        "colab": {
          "base_uri": "https://localhost:8080/"
        },
        "id": "7jJg-be5abJe",
        "outputId": "397702ba-7700-49d9-8eb9-bb896bd5ad60"
      },
      "execution_count": 14,
      "outputs": [
        {
          "output_type": "stream",
          "name": "stdout",
          "text": [
            "Enter a name: Ram\n",
            "{'John': [25, 32, 43], 'Peter': [87, 55, 96], 'Ram': [88, 77, 99], 'Meena': [63, 79, 85]}\n"
          ]
        }
      ]
    },
    {
      "cell_type": "markdown",
      "source": [
        "**Question 3**\n",
        "\n",
        "**Ticket Price Calculator**"
      ],
      "metadata": {
        "id": "oz_UXJesfLH8"
      }
    },
    {
      "cell_type": "code",
      "source": [
        "Age=0\n",
        "Gender=''\n",
        "Age=int(input('Enter your age : '))\n",
        "\n",
        "if Age>0 and Age<5:\n",
        "  print('Ticket price is free')\n",
        "elif Age>5 and Age<12:\n",
        "  Gender=input('Enter your Gender(Male/Female) : ')\n",
        "  if Gender=='Male':\n",
        "     print('Ticket price is Rs.10')\n",
        "  else:\n",
        "     print('Ticket price is 50% of the applicable rate is Rs.5')\n",
        "elif Age>12 and Age<60:\n",
        "  Gender=input('Enter your Gender(Male/Female) : ')\n",
        "  if Gender=='Male':\n",
        "     print('Ticket price is Rs.50')\n",
        "  else:\n",
        "     print('Ticket price is 50% of the applicable rate is Rs.25')\n",
        "else:\n",
        "  print('Ticket price is free')\n",
        "\n"
      ],
      "metadata": {
        "colab": {
          "base_uri": "https://localhost:8080/"
        },
        "id": "-oMmU9chfcX5",
        "outputId": "2d49e99c-1523-4341-f8df-3ff303e8bd1c"
      },
      "execution_count": 20,
      "outputs": [
        {
          "output_type": "stream",
          "name": "stdout",
          "text": [
            "Enter your age : 7\n",
            "Enter your Gender(Male/Female) : Female\n",
            "Ticket price is 50% of the applicable rate is Rs.5\n"
          ]
        }
      ]
    }
  ]
}