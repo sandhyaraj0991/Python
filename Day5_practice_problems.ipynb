{
  "nbformat": 4,
  "nbformat_minor": 0,
  "metadata": {
    "colab": {
      "provenance": []
    },
    "kernelspec": {
      "name": "python3",
      "display_name": "Python 3"
    },
    "language_info": {
      "name": "python"
    }
  },
  "cells": [
    {
      "cell_type": "markdown",
      "source": [
        "**Question 1**"
      ],
      "metadata": {
        "id": "S2DjCibzxJtF"
      }
    },
    {
      "cell_type": "code",
      "execution_count": null,
      "metadata": {
        "id": "0gPJxW-SE9Ac",
        "colab": {
          "base_uri": "https://localhost:8080/"
        },
        "outputId": "fa37342c-29ba-4fa0-f525-3ec510f4f0f6"
      },
      "outputs": [
        {
          "output_type": "stream",
          "name": "stdout",
          "text": [
            "Enter a number 1 :10\n",
            "Enter a number 2 :12\n",
            "Enter a number 3 :14\n",
            "The middle of the three integers is :  12\n"
          ]
        }
      ],
      "source": [
        "import math\n",
        "\n",
        "# This function sort numbers\n",
        "def middle_of_three(n1,n2,n3):\n",
        "        return sorted([n1, n2, n3])[1]\n",
        "\n",
        "\n",
        "num1=int(input('Enter a number 1 :'))\n",
        "num2=int(input('Enter a number 2 :'))\n",
        "num3=int(input('Enter a number 3 :'))\n",
        "result=middle_of_three(num1,num2,num3)\n",
        "\n",
        "print('The middle of the three integers is : ', result)"
      ]
    },
    {
      "cell_type": "markdown",
      "source": [
        "**Question 2**\n",
        "\n",
        "Calculator"
      ],
      "metadata": {
        "id": "li7Mt3J8zcB9"
      }
    },
    {
      "cell_type": "code",
      "source": [
        "#Adds two numbers\n",
        "def add(x, y):\n",
        "    return x + y\n",
        "\n",
        "#subtracts two numbers\n",
        "def subtract(x, y):\n",
        "    return x - y\n",
        "\n",
        "# Mltiplies two numbers\n",
        "def multiply(x, y):\n",
        "    return x * y\n",
        "\n",
        "# Divides two numbers\n",
        "def divide(x, y):\n",
        "    return x / y\n",
        "\n",
        "\n",
        "print(\"Select operation.\")\n",
        "print(\"1.Add\")\n",
        "print(\"2.Subtract\")\n",
        "print(\"3.Multiply\")\n",
        "print(\"4.Divide\")\n",
        "\n",
        "while True:\n",
        "    # Input from user\n",
        "    choice = input(\"Enter choice(1/2/3/4): \")\n",
        "    # check user choice\n",
        "    if choice in ('1', '2', '3', '4'):\n",
        "        try:\n",
        "            num1 = float(input(\"Enter first number: \"))\n",
        "            num2 = float(input(\"Enter second number: \"))\n",
        "        except ValueError:\n",
        "            print(\"Invalid input. Please enter a number.\")\n",
        "            continue\n",
        "\n",
        "        if choice == '1':\n",
        "            print(num1, \"+\", num2, \"=\", add(num1, num2))\n",
        "\n",
        "        elif choice == '2':\n",
        "            print(num1, \"-\", num2, \"=\", subtract(num1, num2))\n",
        "\n",
        "        elif choice == '3':\n",
        "            print(num1, \"*\", num2, \"=\", multiply(num1, num2))\n",
        "\n",
        "        elif choice == '4':\n",
        "            print(num1, \"/\", num2, \"=\", divide(num1, num2))\n",
        "\n",
        "        # check if user wants another calculation\n",
        "        # break the while loop if answer is no\n",
        "        next_calculation = input(\"Let's do next calculation? (yes/no): \")\n",
        "        if next_calculation == \"no\":\n",
        "          break\n",
        "    else:\n",
        "        print(\"Invalid Input\")\n"
      ],
      "metadata": {
        "colab": {
          "base_uri": "https://localhost:8080/"
        },
        "id": "0hCD1tbtzbXs",
        "outputId": "e41d9f68-9a10-4e57-be4f-abb312c5b037"
      },
      "execution_count": null,
      "outputs": [
        {
          "name": "stdout",
          "output_type": "stream",
          "text": [
            "Select operation.\n",
            "1.Add\n",
            "2.Subtract\n",
            "3.Multiply\n",
            "4.Divide\n",
            "Enter choice(1/2/3/4): 5\n",
            "Invalid Input\n",
            "Enter choice(1/2/3/4): 2\n",
            "Enter first number: 5\n",
            "Enter second number: 3\n",
            "5.0 - 3.0 = 2.0\n",
            "Let's do next calculation? (yes/no): yes\n",
            "Enter choice(1/2/3/4): 4\n",
            "Enter first number: 7\n",
            "Enter second number: 2\n",
            "7.0 / 2.0 = 3.5\n",
            "Let's do next calculation? (yes/no): no\n"
          ]
        }
      ]
    },
    {
      "cell_type": "markdown",
      "source": [
        "**Question 3**"
      ],
      "metadata": {
        "id": "OU2eUEl0DdEy"
      }
    },
    {
      "cell_type": "code",
      "source": [
        "import math\n",
        "# calculate hypotenus of a triangle\n",
        "def Pythagorean_thearom(x,y):\n",
        "    return math.sqrt(x * x + y * y)\n",
        "\n",
        "# take user input\n",
        "num1 = int(input(\"Enter first number: \"))\n",
        "num2 = int(input(\"Enter second number: \"))\n",
        "result=Pythagorean_thearom(num1,num2)\n",
        "print(\"The hypotenus of the triangle is\", result)\n",
        "\n",
        "\n"
      ],
      "metadata": {
        "id": "Sirho1Hd0TAn",
        "colab": {
          "base_uri": "https://localhost:8080/"
        },
        "outputId": "7c290b8a-6441-4ec2-cdf5-ef2025b6eced"
      },
      "execution_count": null,
      "outputs": [
        {
          "output_type": "stream",
          "name": "stdout",
          "text": [
            "Enter first number: 3\n",
            "Enter second number: 4\n",
            "The hypotenus of the triangle is 5.0\n"
          ]
        }
      ]
    },
    {
      "cell_type": "markdown",
      "source": [
        "**Question 4**\n",
        "\n",
        "The Rectangle Problem"
      ],
      "metadata": {
        "id": "B63RbmMHEkn9"
      }
    },
    {
      "cell_type": "code",
      "source": [
        "# find perimeter of rectangle\n",
        "def perimeter_rectangle(length,width):\n",
        "    return 2 * length * width\n",
        "\n",
        "# find area of rectangle\n",
        "def area_rectangle(length,width):\n",
        "   return length * width\n",
        "\n",
        "l=int(input('Enter length of the rectangle : '))\n",
        "w=int(input('Enter width of the rectangle : '))\n",
        "res1=perimeter_rectangle(l,w)\n",
        "res2=area_rectangle(l,w)\n",
        "print(\"The perimeter of the rectangle is \",res1 )\n",
        "print(\"The area of the rectangle is \",res2)"
      ],
      "metadata": {
        "colab": {
          "base_uri": "https://localhost:8080/"
        },
        "id": "BSe7ogeQEkLx",
        "outputId": "72858e6c-1164-40e6-c617-9672388e32be"
      },
      "execution_count": null,
      "outputs": [
        {
          "output_type": "stream",
          "name": "stdout",
          "text": [
            "Enter length of the rectangle : 5\n",
            "Enter width of the rectangle : 2\n",
            "The perimeter of the rectangle is 20\n",
            "The area of the rectangle is 10\n"
          ]
        }
      ]
    },
    {
      "cell_type": "markdown",
      "source": [
        "**Question 5**"
      ],
      "metadata": {
        "id": "FlKNJCfxJtFi"
      }
    },
    {
      "cell_type": "code",
      "source": [
        "# Create a bank account class\n",
        "class Bank_Account:\n",
        "    def __init__(self,name,accountNumber,balance):\n",
        "        self.accountNumber=accountNumber\n",
        "        self.name=name\n",
        "        self.balance=0\n",
        "        print(\"Hello!!! Welcome to the Deposit & Withdrawal Machine\")\n",
        "\n",
        "# create a  deposit() function\n",
        "    def deposit(self):\n",
        "        amount=float(input(\"Enter amount to be Deposited: \"))\n",
        "        self.balance += amount\n",
        "        print(\"\\n Account holder name is\", self.name, '  and Account number is ' , self.accountNumber)\n",
        "        print(\"\\n Amount Deposited:\",amount)\n",
        "# create a  withdraw() function\n",
        "    def withdraw(self):\n",
        "        amount = float(input(\"Enter amount to be Withdrawn: \"))\n",
        "        if self.balance>=amount:\n",
        "            self.balance-=amount\n",
        "            print(\"\\n You Withdrew:\", amount)\n",
        "        else:\n",
        "            print(\"\\n Insufficient balance  \")\n",
        "# create a bankFees()\n",
        "    def bankFees(self):\n",
        "        print(\"\\n Bank fees charged =\",self.balance*5/100)\n",
        "\n",
        "    def display(self):\n",
        "        print(\"\\n Net Available Balance=\",self.balance-self.balance*5/100)\n",
        "\n",
        "\n",
        "\n",
        "\n",
        "\n",
        "# creating an object of class\n",
        "s = Bank_Account('Sandhya',45266212332,0)\n",
        "\n",
        "# Calling functions with that class object\n",
        "s.deposit()\n",
        "s.withdraw()\n",
        "s.bankFees()\n",
        "s.display()"
      ],
      "metadata": {
        "colab": {
          "base_uri": "https://localhost:8080/"
        },
        "id": "-JJLGa66JxYN",
        "outputId": "1aa2c192-c798-41f0-89ea-af3955a39c83"
      },
      "execution_count": 9,
      "outputs": [
        {
          "output_type": "stream",
          "name": "stdout",
          "text": [
            "Hello!!! Welcome to the Deposit & Withdrawal Machine\n",
            "Enter amount to be Deposited: 10000\n",
            "\n",
            " Account holder name is Sandhya   and Account number is  45266212332\n",
            "\n",
            " Amount Deposited: 10000.0\n",
            "Enter amount to be Withdrawn: 1000\n",
            "\n",
            " You Withdrew: 1000.0\n",
            "\n",
            " Bank fees charged = 450.0\n",
            "\n",
            " Net Available Balance= 8550.0\n"
          ]
        }
      ]
    }
  ]
}