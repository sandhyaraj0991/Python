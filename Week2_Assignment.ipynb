{
  "nbformat": 4,
  "nbformat_minor": 0,
  "metadata": {
    "colab": {
      "provenance": []
    },
    "kernelspec": {
      "name": "python3",
      "display_name": "Python 3"
    },
    "language_info": {
      "name": "python"
    }
  },
  "cells": [
    {
      "cell_type": "markdown",
      "source": [
        "**Question 1**\n",
        "\n",
        "***GUESS GAME***"
      ],
      "metadata": {
        "id": "a5-8GslB23Sb"
      }
    },
    {
      "cell_type": "code",
      "source": [
        "secretNumber=5\n",
        "print('WELCOME TO GUESS GAME!')\n",
        "print('Please enter a number between 1 and 10')\n",
        "guess=0\n",
        "while(True):\n",
        "  guess=int(input('Make your guess: '))\n",
        "  if guess<0 or guess>10:\n",
        "     print('Enter a number between 1 and 10: ')\n",
        "     continue\n",
        "  elif guess==secretNumber:\n",
        "    print(\"Congratulations! You guessed the number correctly!\")\n",
        "    break\n",
        "  elif guess>secretNumber:\n",
        "    print(\"Too high! Try again.\")\n",
        "  else:\n",
        "    print(\"Too low! Try again.\")\n",
        "\n",
        "\n",
        "\n"
      ],
      "metadata": {
        "colab": {
          "base_uri": "https://localhost:8080/"
        },
        "id": "h8r9sxv5JUB_",
        "outputId": "d92c2ce9-fde9-4202-977a-c6a7433eab7c"
      },
      "execution_count": 5,
      "outputs": [
        {
          "output_type": "stream",
          "name": "stdout",
          "text": [
            "WELCOME TO GUESS GAME!\n",
            "Please enter a number between 1 and 10\n",
            "Make your guess: 8\n",
            "Too high! Try again.\n",
            "Make your guess: 2\n",
            "Too low! Try again.\n",
            "Make your guess: 5\n",
            "Congratulations! You guessed the number correctly!\n"
          ]
        }
      ]
    },
    {
      "cell_type": "markdown",
      "source": [
        "**Ouestion 2**\n",
        "\n",
        "***FACTORIAL OF A NUMBER***"
      ],
      "metadata": {
        "id": "cj1bAMxzObjA"
      }
    },
    {
      "cell_type": "code",
      "source": [
        "import math\n",
        "num=int(input('Enter a number'))\n",
        "factorial=1\n",
        "if num<0:\n",
        "    print('Sorry! Factorial only exist for positive numbers')\n",
        "elif num==0:\n",
        "    print('The factorial of o is 1')\n",
        "else:\n",
        "      print('The factorial of the',num,'is',math.factorial(num))\n",
        "\n",
        "\n"
      ],
      "metadata": {
        "colab": {
          "base_uri": "https://localhost:8080/"
        },
        "id": "wYj59NofOa7l",
        "outputId": "e2c3e583-07de-403b-b173-e327a0fdf384"
      },
      "execution_count": 13,
      "outputs": [
        {
          "output_type": "stream",
          "name": "stdout",
          "text": [
            "Enter a number5\n",
            "The factorial of the 5 is 120\n"
          ]
        }
      ]
    },
    {
      "cell_type": "markdown",
      "source": [
        "**Question 3**"
      ],
      "metadata": {
        "id": "3YW8q-B7Rb8D"
      }
    },
    {
      "cell_type": "code",
      "source": [
        "l=int(input('Minimum dimension of the Picture : '))\n",
        "n=int(input('No of pictures : '))\n",
        "w=int(input('Width of the photo : '))\n",
        "h=int(input('Height of the photo : '))\n",
        "i=0\n",
        "\n",
        "while i<n:\n",
        "\n",
        "  if w < l or h < l:\n",
        "        print('UPLOAD ANOTHER')\n",
        "        break\n",
        "  else:\n",
        "        if w == h and (w >= l and h >= l) :\n",
        "          print('ACCEPTED')\n",
        "          break\n",
        "        else:\n",
        "            print('CROP IT')\n",
        "            break\n",
        "i+=1"
      ],
      "metadata": {
        "colab": {
          "base_uri": "https://localhost:8080/"
        },
        "id": "i_L-kArORsAi",
        "outputId": "153b7995-c912-4348-b219-4452d9949964"
      },
      "execution_count": 33,
      "outputs": [
        {
          "output_type": "stream",
          "name": "stdout",
          "text": [
            "Minimum dimension of the Picture : 500\n",
            "No of pictures : 1\n",
            "Width of the photo : 500\n",
            "Height of the photo : 600\n",
            "CROP IT\n"
          ]
        }
      ]
    }
  ]
}